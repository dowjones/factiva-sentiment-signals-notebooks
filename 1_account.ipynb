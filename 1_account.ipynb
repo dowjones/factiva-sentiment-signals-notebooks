{
 "cells": [
  {
   "cell_type": "markdown",
   "metadata": {},
   "source": [
    "# FSS Account\n",
    "\n",
    "Request to get the accout information"
   ]
  },
  {
   "cell_type": "code",
   "execution_count": 12,
   "metadata": {},
   "outputs": [],
   "source": [
    "import os\n",
    "import requests as req\n",
    "import json\n",
    "from dotenv import load_dotenv\n",
    "load_dotenv()\n",
    "\n",
    "USER_KEY = os.getenv(\"FSS_USERKEY\")\n",
    "BASE_URL = \"https://api.dowjones.com\"\n",
    "\n",
    "REQ_HEADERS = {\n",
    "    \"user-key\": USER_KEY,\n",
    "    \"Accept\": \"application/json\"\n",
    "}"
   ]
  },
  {
   "cell_type": "markdown",
   "metadata": {},
   "source": [
    "## General Account Information"
   ]
  },
  {
   "cell_type": "code",
   "execution_count": 18,
   "metadata": {},
   "outputs": [
    {
     "name": "stdout",
     "output_type": "stream",
     "text": [
      "{\n",
      "    \"date_created\": \"2024-10-01T17:37:31\",\n",
      "    \"active\": true,\n",
      "    \"audit\": {\n",
      "        \"id\": 18,\n",
      "        \"name\": \"Internal-340111\",\n",
      "        \"email\": \"joseph.fantozzi@dowjones.com\",\n",
      "        \"billing_account_id\": \"9ZZZ157900\",\n",
      "        \"concurrent_extractions\": 1\n",
      "    }\n",
      "}\n"
     ]
    }
   ],
   "source": [
    "account_url = f\"{BASE_URL}/fss/account/{USER_KEY}\"\n",
    "response = req.get(account_url, headers=REQ_HEADERS)\n",
    "acc_info = response.json()\n",
    "acc_info.pop('id')\n",
    "acc_info['audit'].pop('updated_by')\n",
    "acc_info['audit'].pop('updated_at')\n",
    "print(json.dumps(acc_info, indent=4))"
   ]
  },
  {
   "cell_type": "markdown",
   "metadata": {},
   "source": [
    "## Check Enabled Company Identifiers"
   ]
  },
  {
   "cell_type": "code",
   "execution_count": 21,
   "metadata": {},
   "outputs": [],
   "source": [
    "cid_url = f\"{BASE_URL}/fss/company_id_licensing\"\n",
    "response = req.get(cid_url, headers=REQ_HEADERS)\n",
    "cid_response = response.json()"
   ]
  },
  {
   "cell_type": "code",
   "execution_count": 23,
   "metadata": {},
   "outputs": [
    {
     "name": "stdout",
     "output_type": "stream",
     "text": [
      "{\n",
      "    \"granted_company_identifiers\": [\n",
      "        \"sedol\",\n",
      "        \"duns\",\n",
      "        \"cusip\",\n",
      "        \"isin\"\n",
      "    ]\n",
      "}\n"
     ]
    }
   ],
   "source": [
    "print(json.dumps(cid_response['data'], indent=4))"
   ]
  }
 ],
 "metadata": {
  "kernelspec": {
   "display_name": "fadev",
   "language": "python",
   "name": "python3"
  },
  "language_info": {
   "codemirror_mode": {
    "name": "ipython",
    "version": 3
   },
   "file_extension": ".py",
   "mimetype": "text/x-python",
   "name": "python",
   "nbconvert_exporter": "python",
   "pygments_lexer": "ipython3",
   "version": "3.12.7"
  }
 },
 "nbformat": 4,
 "nbformat_minor": 2
}
