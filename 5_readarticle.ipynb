{
 "cells": [
  {
   "cell_type": "markdown",
   "metadata": {},
   "source": [
    "# Read Article"
   ]
  },
  {
   "cell_type": "code",
   "execution_count": 20,
   "metadata": {},
   "outputs": [],
   "source": [
    "from factiva.analytics import ArticleRetrieval\n",
    "from IPython.display import HTML\n",
    "from dotenv import load_dotenv\n",
    "load_dotenv()\n",
    "\n",
    "ar = ArticleRetrieval()"
   ]
  },
  {
   "cell_type": "markdown",
   "metadata": {},
   "source": [
    "## Display Article"
   ]
  },
  {
   "cell_type": "code",
   "execution_count": 23,
   "metadata": {},
   "outputs": [],
   "source": [
    "article_id = 'DJDN000020241120ekbk00421'"
   ]
  },
  {
   "cell_type": "code",
   "execution_count": 24,
   "metadata": {},
   "outputs": [
    {
     "data": {
      "text/html": [
       "\n",
       "<img src='http://logos.factiva.com/djdnLogo.gif'>\n",
       "<h1>Tech Declines; Nvidia Falls in Late Trading After Earnings - Tech Roundup<h1>\n",
       "<p style='dateline'>Dow Jones Institutional News, 2024-11-20, 196 words</p>\n",
       "\n",
       "<p style='content'>Shares of technology companies fell slightly ahead of Nvidia's earnings, and the losses could mount in the wake of a disappointment from the artificial-intelligence bellwether.</p>\n",
       "\n",
       "<p style='content'>Shares of the world's largest company by market capitalization fell in late trading after its fourth-quarter revenue projection lagged some investors' expectations.</p>\n",
       "\n",
       "<p style='content'>Elon Musk's artificial intelligence startup, xAI, has told investors it raised $5 billion in a funding round valuing it at $50 billion, more than twice what it was valued at several months ago.</p>\n",
       "\n",
       "<p style='content'>Sovereign-wealth fund the Qatar Investment Authority, and investment firms Valor Equity Partners, Sequoia Capital and Andreessen Horowitz are expected to participate in the round, according to people familiar with the matter.</p>\n",
       "\n",
       "<p style='content'>The price of bitcoin tested the $95,000 level, bringing the long-touted $100,000 milestone into view for the leading digital currency.</p>\n",
       "\n",
       "<p style='content'>Wait times for Apple's latest iPhone haven't shown any changes despite the release of Apple Intelligence in the U.S.</p>\n",
       "\n",
       "<p style='content'>Write to Rob Curran at rob.curran@dowjones.com</p>\n",
       "\n",
       "<p style='content'>(END) Dow Jones Newswires</p>\n",
       "\n",
       "<p style='content'>November 20, 2024 17:17 ET (22:17 GMT)</p>\n",
       "\n",
       "<p style='copyright'>Copyright © 2024, Dow Jones & Company, Inc. </p>\n",
       "<p style='docid'>Document identifier: DJDN000020241120ekbk00421</p>"
      ],
      "text/plain": [
       "<IPython.core.display.HTML object>"
      ]
     },
     "metadata": {},
     "output_type": "display_data"
    }
   ],
   "source": [
    "ar_content = ar.retrieve_single_article(article_id)\n",
    "display(HTML(ar_content.html))"
   ]
  }
 ],
 "metadata": {
  "kernelspec": {
   "display_name": "fadev",
   "language": "python",
   "name": "python3"
  },
  "language_info": {
   "codemirror_mode": {
    "name": "ipython",
    "version": 3
   },
   "file_extension": ".py",
   "mimetype": "text/x-python",
   "name": "python",
   "nbconvert_exporter": "python",
   "pygments_lexer": "ipython3",
   "version": "3.12.7"
  }
 },
 "nbformat": 4,
 "nbformat_minor": 2
}
